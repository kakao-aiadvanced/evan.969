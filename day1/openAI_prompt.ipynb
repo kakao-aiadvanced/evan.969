{
 "cells": [
  {
   "cell_type": "code",
   "execution_count": 4,
   "metadata": {},
   "outputs": [],
   "source": [
    "from openai import OpenAI\n",
    "\n",
    "client = OpenAI(\n",
    "    api_key = \"\"\n",
    ")"
   ]
  },
  {
   "cell_type": "code",
   "execution_count": 5,
   "metadata": {},
   "outputs": [
    {
     "name": "stdout",
     "output_type": "stream",
     "text": [
      "Korea offers a diverse range of attractions, from bustling cities to serene natural landscapes. Here are some of the best places to visit in South Korea:\n",
      "\n",
      "### 1. **Seoul**\n",
      "   - **Gyeongbokgung Palace**: The largest of the Five Grand Palaces, it features beautiful architecture and gardens.\n",
      "   - **Bukchon Hanok Village**: A traditional village with well-preserved hanoks (Korean houses).\n",
      "   - **Myeongdong**: A vibrant shopping district known for cosmetics, fashion, and street food.\n",
      "   - **N Seoul Tower**: Offers panoramic views of the city, especially beautiful at night.\n",
      "\n",
      "### 2. **Busan**\n",
      "   - **Haeundae Beach**: One of the most famous beaches in Korea, perfect for sunbathing and water sports.\n",
      "   - **Gamcheon Culture Village**: A colorful hillside village with artistic murals and quaint cafes.\n",
      "   - **Jagalchi Fish Market**: The largest seafood market in Korea, where you can enjoy fresh seafood.\n",
      "\n",
      "### 3. **Jeju Island**\n",
      "   - **Hallasan National Park**: Home to South Korea's highest mountain, offering hiking trails and stunning views.\n",
      "   - **Seongsan Ilchulbong (Sunrise Peak)**: A UNESCO World Heritage site known for its breathtaking sunrise views.\n",
      "   - **Manjanggul Cave**: One of the longest lava tubes in the world, featuring unique geological formations.\n",
      "\n",
      "### 4. **Gyeongju**\n",
      "   - **Bulguksa Temple**: A UNESCO World Heritage site known for its beautiful architecture and historical significance.\n",
      "   - **Seokguram Grotto**: A stunning stone temple housing a magnificent Buddha statue.\n",
      "   - **Gyeongju National Museum**: Showcases artifacts from the Silla Dynasty.\n",
      "\n",
      "### 5. **Incheon**\n",
      "   - **Incheon Chinatown**: The largest Chinatown in Korea, featuring unique shops and delicious Chinese-Korean cuisine.\n",
      "   - **Songdo International Business District**: A modern urban area with parks, skyscrapers, and the Songdo Central Park.\n",
      "\n",
      "### 6. **Suwon**\n",
      "   - **Hwaseong Fortress**: A UNESCO World Heritage site, this fortress offers historical insights and beautiful views.\n",
      "   - **Korean Folk Village**: An open-air museum showcasing traditional Korean culture and architecture.\n",
      "\n",
      "### 7. **DMZ (Demilitarized Zone)**\n",
      "   - A unique and historically significant area that offers tours to learn about the Korean War and the division of North and South Korea.\n",
      "\n",
      "### 8. **Nami Island**\n",
      "   - A picturesque island known for its tree-lined paths and beautiful scenery, especially during autumn.\n",
      "\n",
      "### 9. **Sokcho and Seoraksan National Park**\n",
      "   - **Seoraksan**: Known for its stunning mountain landscapes, hiking trails, and diverse flora and fauna.\n",
      "   - **Sokcho**: A coastal city with beautiful beaches and access to fresh seafood.\n",
      "\n",
      "### 10. **Jeonju**\n",
      "   - **Jeonju Hanok Village**: A well-preserved area with traditional hanoks, famous for its bibimbap and cultural experiences.\n",
      "\n",
      "These locations highlight the rich history, culture, and natural beauty of South Korea, making them must-visit destinations for travelers.\n"
     ]
    }
   ],
   "source": [
    "completion = client.chat.completions.create(\n",
    "  model=\"gpt-4o-mini\",\n",
    "  temperature=0.2,\n",
    "  messages=[\n",
    "    {\"role\": \"user\", \"content\": \"What are the best places in Korea?\"},\n",
    "  ]\n",
    ")\n",
    "\n",
    "completion.choices[0].message.content\n",
    "\n",
    "print(completion.choices[0].message.content)"
   ]
  },
  {
   "cell_type": "code",
   "execution_count": 6,
   "metadata": {},
   "outputs": [
    {
     "name": "stdout",
     "output_type": "stream",
     "text": [
      "South Korea is rich in cultural heritage, natural beauty, and modern attractions. Here are some of the top tourist attractions in the country:\n",
      "\n",
      "### Historical and Cultural Sites\n",
      "1. **Gyeongbokgung Palace** (Seoul) - The largest of the Five Grand Palaces, known for its beautiful architecture and the changing of the guard ceremony.\n",
      "2. **Changdeokgung Palace** (Seoul) - A UNESCO World Heritage site famous for its Secret Garden.\n",
      "3. **Bukchon Hanok Village** (Seoul) - A traditional Korean village with hanok (traditional houses) that offers a glimpse into Korea's past.\n",
      "4. **Jongmyo Shrine** (Seoul) - A Confucian royal shrine, also a UNESCO World Heritage site, dedicated to the spirits of the Joseon Dynasty kings and queens.\n",
      "5. **Hwaseong Fortress** (Suwon) - A UNESCO World Heritage site showcasing impressive military architecture.\n",
      "\n",
      "### Natural Attractions\n",
      "6. **Seoraksan National Park** - Known for its stunning mountain scenery, hiking trails, and diverse flora and fauna.\n",
      "7. **Jeju Island** - Famous for its volcanic landscapes, beautiful beaches, and Hallasan Mountain, South Korea's highest peak.\n",
      "8. **Nami Island** - A picturesque island known for its tree-lined paths and seasonal beauty, especially during autumn.\n",
      "9. **Bukhansan National Park** (Seoul) - Offers hiking trails with breathtaking views of the city and surrounding nature.\n",
      "\n",
      "### Modern Attractions\n",
      "10. **N Seoul Tower** - An iconic landmark offering panoramic views of Seoul, especially beautiful at night.\n",
      "11. **Dongdaemun Design Plaza (DDP)** - A modern architectural marvel that hosts exhibitions, fashion shows, and cultural events.\n",
      "12. **Lotte World** - A large indoor amusement park in Seoul, featuring rides, an aquarium, and shopping.\n",
      "\n",
      "### Cultural Experiences\n",
      "13. **Gwangjang Market** (Seoul) - A traditional market known for its street food, textiles, and local delicacies.\n",
      "14. **Insadong** (Seoul) - A neighborhood famous for its traditional tea houses, art galleries, and shops selling Korean crafts.\n",
      "15. **DMZ (Demilitarized Zone)** - A unique and historical site that offers tours to learn about the Korean War and the division of North and South Korea.\n",
      "\n",
      "### Festivals and Events\n",
      "16. **Boryeong Mud Festival** - A popular summer festival held on Daecheon Beach, featuring mud wrestling, mudslides, and other fun activities.\n",
      "17. **Cherry Blossom Festivals** - Held in various locations, including Seoul and Jeju, during spring when cherry blossoms bloom.\n",
      "\n",
      "### Unique Experiences\n",
      "18. **Hanok Stay** - Experience traditional Korean living by staying in a hanok.\n",
      "19. **Korean Spa (Jjimjilbang)** - Enjoy a relaxing experience in a traditional Korean bathhouse.\n",
      "\n",
      "These attractions offer a mix of history, culture, nature, and modernity, making South Korea a diverse and exciting destination for travelers.\n"
     ]
    }
   ],
   "source": [
    "completion = client.chat.completions.create(\n",
    "  model=\"gpt-4o-mini\",\n",
    "  temperature=0.2,\n",
    "  messages=[\n",
    "    {\"role\": \"user\", \"content\": \"What are the tourist attractions in Korea?\"},\n",
    "  ]\n",
    ")\n",
    "\n",
    "completion.choices[0].message.content\n",
    "\n",
    "print(completion.choices[0].message.content)"
   ]
  },
  {
   "cell_type": "code",
   "execution_count": 7,
   "metadata": {},
   "outputs": [
    {
     "name": "stdout",
     "output_type": "stream",
     "text": [
      "The word \"dog\" in Korean is: 개 (gae)\n"
     ]
    }
   ],
   "source": [
    "completion = client.chat.completions.create(\n",
    "  model=\"gpt-4o-mini\",\n",
    "  temperature=0.2,\n",
    "  messages=[\n",
    "    {\"role\": \"user\", \"content\": \"\"\"\n",
    "Translate the following words to Korean:\n",
    "1. book: 책\n",
    "2. cheese: 치즈\n",
    "3. water: 물\n",
    "4. bread: 빵\n",
    "5. apple: 사과\n",
    "\n",
    "Translate the word \"dog\":\n",
    "     \n",
    "     \"\"\"},\n",
    "  ]\n",
    ")\n",
    "\n",
    "completion.choices[0].message.content\n",
    "\n",
    "print(completion.choices[0].message.content)"
   ]
  },
  {
   "cell_type": "code",
   "execution_count": 8,
   "metadata": {},
   "outputs": [
    {
     "name": "stdout",
     "output_type": "stream",
     "text": [
      "negative\n"
     ]
    }
   ],
   "source": [
    "completion = client.chat.completions.create(\n",
    "  model=\"gpt-4o-mini\",\n",
    "  messages=[\n",
    "    {\"role\": \"user\", \"content\": \"\"\"\n",
    "Determine the sentiment (positive or negative) of the following movie reviews:\n",
    "1. \"The movie was fantastic and had great acting.\": positive\n",
    "2. \"I hated the film; it was a complete waste of time.\": negative\n",
    "3. \"An excellent film that kept me on the edge of my seat.\": positive\n",
    "4. \"Terrible plot and horrible acting.\": negative\n",
    "5. \"A wonderful experience with stunning visuals.\": positive\n",
    "\n",
    "Review: \"The storyline was dull and uninspiring.\"\n",
    "Sentiment:\n",
    "     \n",
    "     \"\"\"},\n",
    "  ]\n",
    ")\n",
    "\n",
    "completion.choices[0].message.content\n",
    "\n",
    "print(completion.choices[0].message.content)"
   ]
  },
  {
   "cell_type": "code",
   "execution_count": 9,
   "metadata": {},
   "outputs": [
    {
     "name": "stdout",
     "output_type": "stream",
     "text": [
      "```sql\n",
      "SELECT AVG(salary) FROM employees WHERE department = 'Marketing';\n",
      "```\n"
     ]
    }
   ],
   "source": [
    "completion = client.chat.completions.create(\n",
    "  model=\"gpt-4o-mini\",\n",
    "  messages=[\n",
    "    {\"role\": \"user\", \"content\": \"\"\"\n",
    "Convert the following natural language requests into SQL queries:\n",
    "1. \"Show all employees with a salary greater than $50,000.\": SELECT * FROM employees WHERE salary > 50000;\n",
    "2. \"List all products that are out of stock.\": SELECT * FROM products WHERE stock = 0;\n",
    "3. \"Find the names of students who scored above 90 in math.\": SELECT name FROM students WHERE math_score > 90;\n",
    "4. \"Retrieve the details of orders placed in the last 30 days.\": SELECT * FROM orders WHERE order_date >= DATE_SUB(CURDATE(), INTERVAL 30 DAY);\n",
    "5. \"Get the count of customers from each city.\": SELECT city, COUNT(*) FROM customers GROUP BY city;\n",
    "\n",
    "Request: \"Find the average salary of employees in the marketing department.\"\n",
    "SQL Query:\n",
    "     \"\"\"},\n",
    "  ]\n",
    ")\n",
    "\n",
    "completion.choices[0].message.content\n",
    "\n",
    "print(completion.choices[0].message.content)"
   ]
  },
  {
   "cell_type": "code",
   "execution_count": 10,
   "metadata": {},
   "outputs": [
    {
     "name": "stdout",
     "output_type": "stream",
     "text": [
      "To solve the problem \\( 32 - 11 \\) step-by-step, follow these steps:\n",
      "\n",
      "1. **Break down the numbers**: 32 and 11\n",
      "2. **Subtract the tens place**: \n",
      "   - For 32, the tens place is 30.\n",
      "   - For 11, the tens place is 10.\n",
      "   - Subtract the tens: \\( 30 - 10 = 20 \\)\n",
      "3. **Subtract the ones place**: \n",
      "   - For 32, the ones place is 2.\n",
      "   - For 11, the ones place is 1.\n",
      "   - Subtract the ones: \\( 2 - 1 = 1 \\)\n",
      "4. **Combine the results**: \n",
      "   - Add the results from the tens place and the ones place: \\( 20 + 1 = 21 \\)\n",
      "\n",
      "Answer: 21\n"
     ]
    }
   ],
   "source": [
    "completion = client.chat.completions.create(\n",
    "  model=\"gpt-4o-mini\",\n",
    "  messages=[\n",
    "    {\"role\": \"user\", \"content\": \"\"\"\n",
    "Solve the following problem step-by-step: 32-11\n",
    "\n",
    "     \n",
    "here is example\n",
    "Solve the following problem step-by-step: 123 - 58\n",
    "\n",
    "Step-by-step solution:\n",
    "1. Break down the numbers: 123 and 58\n",
    "2. Subtract the tens place: 120 - 50 = 70\n",
    "3. Subtract the ones place: 3 - 8 = -5 (borrow 10 from the tens place)\n",
    "4. Adjust for borrowing: 70 - 10 + (-5) = 55\n",
    "\n",
    "Answer: 65\n",
    "     \"\"\"},\n",
    "  ]\n",
    ")\n",
    "\n",
    "completion.choices[0].message.content\n",
    "\n",
    "print(completion.choices[0].message.content)"
   ]
  },
  {
   "cell_type": "code",
   "execution_count": 11,
   "metadata": {},
   "outputs": [
    {
     "name": "stdout",
     "output_type": "stream",
     "text": [
      "Sure, let's solve the problem 32 - 11 step-by-step:\n",
      "\n",
      "### Step-by-step solution:\n",
      "\n",
      "1. **Break down the numbers:**  \n",
      "   \\( 32 \\) and \\( 11 \\)\n",
      "\n",
      "2. **Subtract the tens place:**  \n",
      "   \\( 30 - 10 = 20 \\)\n",
      "\n",
      "3. **Subtract the ones place:**  \n",
      "   \\( 2 - 1 = 1 \\)\n",
      "\n",
      "4. **Combine the results from steps 2 and 3:**  \n",
      "   \\( 20 + 1 = 21 \\)\n",
      "\n",
      "### Answer: 21\n"
     ]
    }
   ],
   "source": [
    "completion = client.chat.completions.create(\n",
    "  model=\"gpt-4o\",\n",
    "  messages=[\n",
    "    {\"role\": \"user\", \"content\": \"\"\"\n",
    "Solve the following problem step-by-step: 32-11\n",
    "\n",
    "     \n",
    "here is example\n",
    "Solve the following problem step-by-step: 123 - 58\n",
    "\n",
    "Step-by-step solution:\n",
    "1. Break down the numbers: 123 and 58\n",
    "2. Subtract the tens place: 120 - 50 = 70\n",
    "3. Subtract the ones place: 3 - 8 = -5 (borrow 10 from the tens place)\n",
    "4. Adjust for borrowing: 70 - 10 + (-5) = 55\n",
    "\n",
    "Answer: 65\n",
    "     \"\"\"},\n",
    "  ]\n",
    ")\n",
    "\n",
    "completion.choices[0].message.content\n",
    "\n",
    "print(completion.choices[0].message.content)"
   ]
  },
  {
   "cell_type": "code",
   "execution_count": null,
   "metadata": {},
   "outputs": [],
   "source": []
  }
 ],
 "metadata": {
  "kernelspec": {
   "display_name": "Python 3",
   "language": "python",
   "name": "python3"
  },
  "language_info": {
   "codemirror_mode": {
    "name": "ipython",
    "version": 3
   },
   "file_extension": ".py",
   "mimetype": "text/x-python",
   "name": "python",
   "nbconvert_exporter": "python",
   "pygments_lexer": "ipython3",
   "version": "3.9.6"
  }
 },
 "nbformat": 4,
 "nbformat_minor": 2
}
